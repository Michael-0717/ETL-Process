{
 "cells": [
  {
   "cell_type": "markdown",
   "metadata": {},
   "source": [
    "### Постановка задачи\n",
    "Построить модель линейной регрессии энергопотребления здания, используя температуру воздуха (air_temperature) и влажность (dew_temperature).\n",
    "\n",
    "Рассчитать качество построенной модели по проверочным данным.\n",
    "\n",
    "Данные:\n",
    "* http://video.ittensive.com/machine-learning/ashrae/building_metadata.csv.gz\n",
    "* http://video.ittensive.com/machine-learning/ashrae/weather_train.csv.gz\n",
    "* http://video.ittensive.com/machine-learning/ashrae/train.0.0.csv.gz\n",
    "Соревнование: https://www.kaggle.com/c/ashrae-energy-prediction/\n",
    "\n",
    "© ITtensive, 2020"
   ]
  },
  {
   "cell_type": "markdown",
   "metadata": {},
   "source": [
    "### Подключение библиотек"
   ]
  },
  {
   "cell_type": "code",
   "execution_count": 5,
   "metadata": {},
   "outputs": [],
   "source": [
    "%matplotlib inline\n",
    "import numpy as np\n",
    "import pandas as pd\n",
    "from sklearn.model_selection import train_test_split\n",
    "from sklearn.linear_model import LinearRegression"
   ]
  },
  {
   "cell_type": "markdown",
   "metadata": {},
   "source": [
    "### Загрузка данных"
   ]
  },
  {
   "cell_type": "code",
   "execution_count": 6,
   "metadata": {
    "scrolled": true
   },
   "outputs": [
    {
     "name": "stdout",
     "output_type": "stream",
     "text": [
      "<class 'pandas.core.frame.DataFrame'>\n",
      "RangeIndex: 8784 entries, 0 to 8783\n",
      "Data columns (total 4 columns):\n",
      " #   Column         Non-Null Count  Dtype  \n",
      "---  ------         --------------  -----  \n",
      " 0   building_id    8784 non-null   int64  \n",
      " 1   meter          8784 non-null   int64  \n",
      " 2   timestamp      8784 non-null   object \n",
      " 3   meter_reading  8784 non-null   float64\n",
      "dtypes: float64(1), int64(2), object(1)\n",
      "memory usage: 240.2+ KB\n",
      "None\n"
     ]
    }
   ],
   "source": [
    "buildings = pd.read_csv(\"http://video.ittensive.com/machine-learning/ashrae/building_metadata.csv.gz\")\n",
    "weather = pd.read_csv(\"http://video.ittensive.com/machine-learning/ashrae/weather_train.csv.gz\")\n",
    "energy_0 = pd.read_csv(\"http://video.ittensive.com/machine-learning/ashrae/train.0.0.csv.gz\")\n",
    "print (energy_0.info()) #Посмотрим сводную информацию методом info():\n",
    "#мы узнаем, что в таблице 8784 строки (от 0 до 8783), \n",
    "# 4 столбца - количество ненулевых значений (non-null), тип данных: \n",
    "#  int64 - целые числа (числа размером 8 байт);\n",
    "# object - абстракция Python для данных,\n",
    "# float64 – число с плавающей запятой (числа размером 8 байт)."
   ]
  },
  {
   "cell_type": "markdown",
   "metadata": {},
   "source": [
    "### Объединение данных и фильтрация"
   ]
  },
  {
   "cell_type": "code",
   "execution_count": 7,
   "metadata": {},
   "outputs": [
    {
     "name": "stdout",
     "output_type": "stream",
     "text": [
      "               timestamp  site_id  building_id  meter  meter_reading  \\\n",
      "704  2016-01-30 08:00:00        0            0      0        43.6839   \n",
      "725  2016-01-31 05:00:00        0            0      0        37.5408   \n",
      "737  2016-01-31 17:00:00        0            0      0        52.5571   \n",
      "2366 2016-04-08 14:00:00        0            0      0        59.3827   \n",
      "2923 2016-05-01 19:00:00        0            0      0       448.0000   \n",
      "\n",
      "     primary_use  square_feet  year_built  floor_count  air_temperature  \\\n",
      "704    Education         7432      2008.0          NaN              8.3   \n",
      "725    Education         7432      2008.0          NaN             12.8   \n",
      "737    Education         7432      2008.0          NaN             20.6   \n",
      "2366   Education         7432      2008.0          NaN             21.7   \n",
      "2923   Education         7432      2008.0          NaN             31.1   \n",
      "\n",
      "      cloud_coverage  dew_temperature  precip_depth_1_hr  sea_level_pressure  \\\n",
      "704              NaN              6.1                0.0              1019.0   \n",
      "725              NaN             10.0                0.0              1021.9   \n",
      "737              NaN             11.7                0.0              1020.9   \n",
      "2366             2.0             14.4                0.0              1015.1   \n",
      "2923             NaN             17.2                0.0              1016.1   \n",
      "\n",
      "      wind_direction  wind_speed  hour  \n",
      "704            220.0         2.1     8  \n",
      "725              0.0         0.0     5  \n",
      "737            110.0         1.5    17  \n",
      "2366           250.0         3.1    14  \n",
      "2923           100.0         4.1    19  \n"
     ]
    }
   ],
   "source": [
    "# объединяем в таблицу, с помощью параметра how=\"left\" мы указали, что главным #является датафрейм слева, название столбца – «building_id».\n",
    "energy_0 = pd.merge(left=energy_0, right=buildings, how=\"left\",\n",
    "                   left_on=\"building_id\", right_on=\"building_id\")\n",
    "# проиндексируем в таблице данных energy_0 по столбцам \"timestamp\", \"site_id\"\n",
    "energy_0.set_index([\"timestamp\", \"site_id\"], inplace=True)\n",
    "# проиндексируем в таблице данных weather по столбцам \"timestamp\", \"site_id\"\n",
    "weather.set_index([\"timestamp\", \"site_id\"], inplace=True)\n",
    "# объединяем в таблицу: слева данные energy_0, справа данные weather\n",
    "energy_0 = pd.merge(left=energy_0, right=weather, how=\"left\",\n",
    "                   left_index=True, right_index=True)\n",
    "# сбросим индекс по данным  energy_0\n",
    "energy_0.reset_index(inplace=True)\n",
    "# отфильтруем только положительные значения \n",
    "energy_0 = energy_0[energy_0[\"meter_reading\"] > 0]\n",
    "# преобразовываем формат времени в столбце timestamp\n",
    "energy_0[\"timestamp\"] = pd.to_datetime(energy_0[\"timestamp\"])\n",
    "# атрибут dt.hour возвращает массив данных  timestamp к базовым данным (2,4…)\n",
    "energy_0[\"hour\"] = energy_0[\"timestamp\"].dt.hour\n",
    "# просмотрим первые строки\n",
    "print (energy_0.head())"
   ]
  },
  {
   "cell_type": "markdown",
   "metadata": {},
   "source": [
    "### Добавление часа в данные"
   ]
  },
  {
   "cell_type": "code",
   "execution_count": 8,
   "metadata": {},
   "outputs": [],
   "source": [
    "energy_0[\"timestamp\"] = pd.to_datetime(energy_0[\"timestamp\"])\n",
    "energy_0[\"hour\"] = energy_0[\"timestamp\"].dt.hour"
   ]
  },
  {
   "cell_type": "markdown",
   "metadata": {},
   "source": [
    "### Разделение данных на обучение и проверку"
   ]
  },
  {
   "cell_type": "code",
   "execution_count": 9,
   "metadata": {},
   "outputs": [
    {
     "name": "stdout",
     "output_type": "stream",
     "text": [
      "               timestamp  site_id  building_id  meter  meter_reading  \\\n",
      "7772 2016-11-19 20:00:00        0            0      0        211.594   \n",
      "5810 2016-08-30 02:00:00        0            0      0        247.087   \n",
      "7876 2016-11-24 04:00:00        0            0      0        161.084   \n",
      "6647 2016-10-03 23:00:00        0            0      0        254.595   \n",
      "7318 2016-10-31 22:00:00        0            0      0        205.451   \n",
      "\n",
      "     primary_use  square_feet  year_built  floor_count  air_temperature  \\\n",
      "7772   Education         7432      2008.0          NaN             25.0   \n",
      "5810   Education         7432      2008.0          NaN             24.4   \n",
      "7876   Education         7432      2008.0          NaN             18.9   \n",
      "6647   Education         7432      2008.0          NaN             26.7   \n",
      "7318   Education         7432      2008.0          NaN             26.1   \n",
      "\n",
      "      cloud_coverage  dew_temperature  precip_depth_1_hr  sea_level_pressure  \\\n",
      "7772             4.0             12.2                0.0              1018.2   \n",
      "5810             NaN             22.8               -1.0              1014.0   \n",
      "7876             NaN             16.1                0.0              1022.9   \n",
      "6647             NaN             21.1                0.0              1011.2   \n",
      "7318             2.0             16.7                0.0              1016.7   \n",
      "\n",
      "      wind_direction  wind_speed  hour  \n",
      "7772           280.0         3.6    20  \n",
      "5810            80.0         3.6     2  \n",
      "7876            90.0         2.6     4  \n",
      "6647            80.0         3.6    23  \n",
      "7318            60.0         5.1    22  \n"
     ]
    }
   ],
   "source": [
    "# Выделим 20% всех данных на проверку, остальные оставим на обучение\n",
    "# используя модуль train_test_split разделяем данные для машинного обучения.\n",
    "# переменная test_size фактически указывает пропорцию набора тестов – 20%.\n",
    "energy_0_train, energy_0_test = train_test_split(energy_0, test_size=0.2)\n",
    "print (energy_0_train.head())\n"
   ]
  },
  {
   "cell_type": "markdown",
   "metadata": {},
   "source": [
    "### Модель линейной регрессии и среднее\n",
    "meter_reading = A * air_temperature + B * dew_temperature + C\n",
    "\n",
    "Дополнительно вычислим среднее по часам, чтобы сравнить линейную регрессию с более простой моделью"
   ]
  },
  {
   "cell_type": "code",
   "execution_count": 12,
   "metadata": {},
   "outputs": [
    {
     "name": "stdout",
     "output_type": "stream",
     "text": [
      "[2.27425656 4.06642286] 101.75007175411153\n"
     ]
    }
   ],
   "source": [
    "# чтобы сравнить линейную регрессию с более простой моделью\n",
    "# дополнительно вычислим среднее по часам\n",
    "energy_0_train_averages = energy_0_train.groupby(\"hour\").mean()[\"meter_reading\"]\n",
    "energy_0_train_lr = pd.DataFrame(energy_0_train,\n",
    "    columns=[\"meter_reading\", \"air_temperature\", \"dew_temperature\"])\n",
    "y = energy_0_train_lr[\"meter_reading\"]\n",
    "x = energy_0_train_lr.drop(labels=[\"meter_reading\"], axis=1)\n",
    "model = LinearRegression().fit(x, y)\n",
    "print (model.coef_, model.intercept_)\n",
    "#полученные коэффициенты будем использовать для оценки модели:"
   ]
  },
  {
   "cell_type": "markdown",
   "metadata": {},
   "source": [
    "### Оценка модели"
   ]
  },
  {
   "cell_type": "code",
   "execution_count": 13,
   "metadata": {},
   "outputs": [
    {
     "name": "stdout",
     "output_type": "stream",
     "text": [
      "Качество среднего: 0.2581035097558345\n",
      "Качество линейной регрессии: 0.22297486656537502\n"
     ]
    }
   ],
   "source": [
    "def calculate_model (x):\n",
    "    meter_reading_log = np.log(x.meter_reading + 1)\n",
    "    meter_reading_mean = np.log(energy_0_train_averages[x.hour] + 1)\n",
    "    meter_reading_lr = np.log(1 + x.air_temperature * model.coef_[0] + \n",
    "                                  x.dew_temperature * model.coef_[1] +\n",
    "                                  model.intercept_)\n",
    "    x[\"meter_reading_lr_q\"] = (meter_reading_log - meter_reading_lr)**2\n",
    "    x[\"meter_reading_mean_q\"] = (meter_reading_log - meter_reading_mean)**2\n",
    "    return x\n",
    "\n",
    "energy_0_test = energy_0_test.apply(calculate_model,\n",
    "                                    axis=1, result_type=\"expand\")\n",
    "energy_0_test_lr_rmsle = np.sqrt(energy_0_test[\"meter_reading_lr_q\"].sum() / len(energy_0_test))\n",
    "energy_0_test_mean_rmsle = np.sqrt(energy_0_test[\"meter_reading_mean_q\"].sum() / len(energy_0_test))\n",
    "print (\"Качество среднего:\", energy_0_test_mean_rmsle)\n",
    "print (\"Качество линейной регрессии:\", energy_0_test_lr_rmsle)"
   ]
  }
 ],
 "metadata": {
  "kernelspec": {
   "display_name": "Python 3 (ipykernel)",
   "language": "python",
   "name": "python3"
  },
  "language_info": {
   "codemirror_mode": {
    "name": "ipython",
    "version": 3
   },
   "file_extension": ".py",
   "mimetype": "text/x-python",
   "name": "python",
   "nbconvert_exporter": "python",
   "pygments_lexer": "ipython3",
   "version": "3.9.12"
  }
 },
 "nbformat": 4,
 "nbformat_minor": 2
}
