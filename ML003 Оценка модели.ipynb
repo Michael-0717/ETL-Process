{
 "cells": [
  {
   "cell_type": "markdown",
   "metadata": {},
   "source": [
    "### Постановка задачи\n",
    "Построить простую модель энергопотребления здания по среднему значению, \n",
    "оценить эффективность модели через метрику\n",
    "\\begin{equation}\n",
    "RMSLE = {\\sqrt{\\sum_{i=1}^{n}{(log(p_i+1) - log(a_i+1))^2} \\over n}}.\n",
    "\\end{equation}\n",
    "* n - число наблюдений\n",
    "* log - натуральный логарифм\n",
    "* p_i - вычисленное значение метрики\n",
    "* a_i - заданное значение метрики\n",
    "\n",
    "Данные: http://video.ittensive.com/machine-learning/ashrae/train.0.0.csv.gz\n",
    "Соревнование: https://www.kaggle.com/c/ashrae-energy-prediction/\n",
    "\n",
    "© ITtensive, 2020"
   ]
  },
  {
   "cell_type": "markdown",
   "metadata": {},
   "source": [
    "### Загрузка библиотек"
   ]
  },
  {
   "cell_type": "code",
   "execution_count": 1,
   "metadata": {},
   "outputs": [],
   "source": [
    "%matplotlib inline\n",
    "import numpy as np\n",
    "import pandas as pd\n",
    "from sklearn.model_selection import train_test_split\n",
    "import matplotlib.pyplot as plt\n",
    "from matplotlib.pyplot import rcParams\n",
    "rcParams['figure.figsize'] = 16, 8"
   ]
  },
  {
   "cell_type": "markdown",
   "metadata": {},
   "source": [
    "### Загрузка данных\n",
    "Дополнительно сразу отсечем пустые дни и выделим час из значения времени"
   ]
  },
  {
   "cell_type": "code",
   "execution_count": 2,
   "metadata": {},
   "outputs": [
    {
     "name": "stdout",
     "output_type": "stream",
     "text": [
      "      building_id  meter           timestamp  meter_reading  hour\n",
      "704             0      0 2016-01-30 08:00:00        43.6839     8\n",
      "725             0      0 2016-01-31 05:00:00        37.5408     5\n",
      "737             0      0 2016-01-31 17:00:00        52.5571    17\n",
      "2366            0      0 2016-04-08 14:00:00        59.3827    14\n",
      "2923            0      0 2016-05-01 19:00:00       448.0000    19\n"
     ]
    }
   ],
   "source": [
    "#Дополнительно сразу отсечем пустые дни и выделим час из значения времени\n",
    "energy_0 = pd.read_csv(\"http://video.ittensive.com/machine-learning/ashrae/train.0.0.csv.gz\")\n",
    "#отбираем значение по столбцу «топливный_экв» со значение > 0\n",
    "energy_0 = energy_0[energy_0[\"meter_reading\"] > 0]\n",
    "#дублируем столбец \"timestamp\" и конвертируем в формат «час» \n",
    "energy_0[\"timestamp\"] = pd.to_datetime(energy_0[\"timestamp\"])\n",
    "energy_0[\"hour\"] = energy_0[\"timestamp\"].dt.hour\n",
    "print (energy_0.head())#просмотр первых n строк"
   ]
  },
  {
   "cell_type": "markdown",
   "metadata": {},
   "source": [
    "### Разделение данных на обучение и проверку\n",
    "Выделим 20% всех данных на проверку, остальные оставим на обучение"
   ]
  },
  {
   "cell_type": "code",
   "execution_count": 3,
   "metadata": {},
   "outputs": [
    {
     "name": "stdout",
     "output_type": "stream",
     "text": [
      "      building_id  meter           timestamp  meter_reading  hour\n",
      "5270            0      0 2016-08-07 14:00:00        302.374    14\n",
      "4171            0      0 2016-06-22 19:00:00        294.866    19\n",
      "7358            0      0 2016-11-02 14:00:00        185.656    14\n",
      "8486            0      0 2016-12-19 14:00:00        189.752    14\n",
      "4578            0      0 2016-07-09 18:00:00        298.279    18\n"
     ]
    }
   ],
   "source": [
    "# Выделим 20% всех данных на проверку, остальные оставим на обучение\n",
    "# используя модуль train_test_split разделяем данные для машинного обучения.\n",
    "# переменная test_size фактически указывает пропорцию набора тестов – 20%.\n",
    "energy_0_train, energy_0_test = train_test_split(energy_0, test_size=0.2)\n",
    "print (energy_0_train.head()) #просмотр первых n строк"
   ]
  },
  {
   "cell_type": "markdown",
   "metadata": {},
   "source": [
    "### Создадим модели\n",
    "Среднее и медианное значение потребление энергии по часам"
   ]
  },
  {
   "cell_type": "code",
   "execution_count": 4,
   "metadata": {},
   "outputs": [
    {
     "name": "stdout",
     "output_type": "stream",
     "text": [
      "         Среднее   Медиана\n",
      "hour                      \n",
      "0     242.004245  240.9440\n",
      "1     238.470483  240.9440\n",
      "2     240.068906  243.6740\n",
      "3     239.105821  244.3570\n",
      "4     239.722760  244.6980\n",
      "5     237.031696  245.0390\n",
      "6     237.874169  243.6740\n",
      "7     240.721148  246.4040\n",
      "8     243.323004  239.5790\n",
      "9     234.193569  234.1180\n",
      "10    236.038772  238.8960\n",
      "11    233.238397  240.9440\n",
      "12    240.072534  243.3325\n",
      "13    235.714738  244.3570\n",
      "14    236.759569  244.3570\n",
      "15    237.833113  242.9910\n",
      "16    236.429818  242.9910\n",
      "17    236.203807  240.6025\n",
      "18    236.448396  238.8960\n",
      "19    237.800213  237.5310\n",
      "20    239.032618  237.5310\n",
      "21    237.714036  237.5310\n",
      "22    236.629740  236.8480\n",
      "23    239.785243  240.9440\n"
     ]
    }
   ],
   "source": [
    "# Среднее и медианное значение потребление энергии по часам\n",
    "energy_0_train_hours = energy_0_train.groupby(\"hour\")\n",
    "energy_0_train_averages = pd.DataFrame(\n",
    "    {\"Среднее\": energy_0_train_hours.mean()[\"meter_reading\"],\n",
    "     \"Медиана\": energy_0_train_hours.median()[\"meter_reading\"]})\n",
    "print (energy_0_train_averages)"
   ]
  },
  {
   "cell_type": "markdown",
   "metadata": {},
   "source": [
    "### Функция проверки модели\n",
    "\\begin{equation}\n",
    "RMSLE = {\\sqrt{\\sum_{i=1}^{n}{(log(p_i+1) - log(a_i+1))^2} \\over n}}.\n",
    "\\end{equation}\n",
    "\n",
    "Для вычисления метрики создадим шесть новых столбцов в тестовом наборе данных: с логарифмом значения метрики, предсказанием по среднему и по медиане, а также с квадратом разницы предсказаний и логарифма значения. Последний столбец добавим, чтобы сравнить предсказание с его отсутствием - нулями в значениях."
   ]
  },
  {
   "cell_type": "code",
   "execution_count": 5,
   "metadata": {},
   "outputs": [
    {
     "name": "stdout",
     "output_type": "stream",
     "text": [
      "      building_id  meter           timestamp  meter_reading  hour  \\\n",
      "8090            0      0 2016-12-03 02:00:00       169.2750     2   \n",
      "8223            0      0 2016-12-08 15:00:00        70.9863    15   \n",
      "8244            0      0 2016-12-09 12:00:00        95.5584    12   \n",
      "7757            0      0 2016-11-19 05:00:00       167.2270     5   \n",
      "5912            0      0 2016-09-03 08:00:00       238.8960     8   \n",
      "\n",
      "      meter_reading_mean_q  meter_reading_median_q  meter_reading_zero_q  \n",
      "8090              0.120873                0.131415             26.393031  \n",
      "8223              1.438295                1.490000             18.288245  \n",
      "8244              0.837133                0.861893             20.886253  \n",
      "7757              0.120471                0.144534             26.268846  \n",
      "5912              0.000334                0.000008             30.032652  \n"
     ]
    }
   ],
   "source": [
    "#Для вычисления метрики создадим шесть новых столбцов в тестовом наборе данных: \n",
    "#1. с логарифмом значения метрики, \n",
    "#2. с предсказанием по среднему, \n",
    "#3. с предсказанием по медиане,\n",
    "#4. с квадратом разницы предсказаний,\n",
    "#5. с квадратом разницы логарифма значения,\n",
    "#6. сравнение предсказания с его отсутствием - нулями в значениях.\n",
    "\n",
    "def calculate_model (x):\n",
    "    meter_reading_log = np.log(x.meter_reading + 1)\n",
    "    meter_reading_mean = np.log(energy_0_train_averages[\"Среднее\"][x.hour] + 1)\n",
    "    meter_reading_median = np.log(energy_0_train_averages[\"Медиана\"][x.hour] + 1)\n",
    "    x[\"meter_reading_mean_q\"] = (meter_reading_log - meter_reading_mean)**2\n",
    "    x[\"meter_reading_median_q\"] = (meter_reading_log - meter_reading_median)**2\n",
    "    x[\"meter_reading_zero_q\"] = (meter_reading_log)**2\n",
    "    return x\n",
    "\n",
    "energy_0_test = energy_0_test.apply(calculate_model,\n",
    "                                    axis=1, result_type=\"expand\")\n",
    "print (energy_0_test.head())\n"
   ]
  },
  {
   "cell_type": "markdown",
   "metadata": {},
   "source": [
    "Теперь остается просуммировать квадраты расхождений, разделить на количество значений и извлечь квадратный корень"
   ]
  },
  {
   "cell_type": "code",
   "execution_count": 6,
   "metadata": {},
   "outputs": [
    {
     "name": "stdout",
     "output_type": "stream",
     "text": [
      "Качество медианы: 0.26277613671383504\n",
      "Качество среднего: 0.26087544085073194\n",
      "Качество нуля: 5.449420712084987\n"
     ]
    }
   ],
   "source": [
    "# Просуммируем квадраты расхождений, разделим на количество значений и извлем квадратный корень:\n",
    "# вычисляем качество медианы\n",
    "energy_0_test_median_rmsle = np.sqrt(energy_0_test[\"meter_reading_median_q\"].sum() / len(energy_0_test))\n",
    "# вычисляем качество среднего\n",
    "energy_0_test_mean_rmsle = np.sqrt(energy_0_test[\"meter_reading_mean_q\"].sum() / len(energy_0_test))\n",
    "# вычисляем качество нуля\n",
    "energy_0_test_zero_rmsle = np.sqrt(energy_0_test[\"meter_reading_zero_q\"].sum() / len(energy_0_test))\n",
    "\n",
    "print (\"Качество медианы:\", energy_0_test_median_rmsle)\n",
    "print (\"Качество среднего:\", energy_0_test_mean_rmsle)\n",
    "print (\"Качество нуля:\", energy_0_test_zero_rmsle)"
   ]
  }
 ],
 "metadata": {
  "kernelspec": {
   "display_name": "Python 3 (ipykernel)",
   "language": "python",
   "name": "python3"
  },
  "language_info": {
   "codemirror_mode": {
    "name": "ipython",
    "version": 3
   },
   "file_extension": ".py",
   "mimetype": "text/x-python",
   "name": "python",
   "nbconvert_exporter": "python",
   "pygments_lexer": "ipython3",
   "version": "3.9.12"
  }
 },
 "nbformat": 4,
 "nbformat_minor": 2
}
